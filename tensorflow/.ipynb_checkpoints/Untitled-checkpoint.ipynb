{
 "cells": [
  {
   "cell_type": "code",
   "execution_count": 5,
   "metadata": {},
   "outputs": [
    {
     "name": "stdout",
     "output_type": "stream",
     "text": [
      "C:\\Users\\rafat\\My_Github\\random-py\\tensorflow/\n",
      "[WindowsPath('C:/Users/rafat/My_Github/random-py/tensorflow/ball_image/1.jpg'), WindowsPath('C:/Users/rafat/My_Github/random-py/tensorflow/ball_image/10.jpg'), WindowsPath('C:/Users/rafat/My_Github/random-py/tensorflow/ball_image/11.jpg'), WindowsPath('C:/Users/rafat/My_Github/random-py/tensorflow/ball_image/12.jpg'), WindowsPath('C:/Users/rafat/My_Github/random-py/tensorflow/ball_image/13.jpg'), WindowsPath('C:/Users/rafat/My_Github/random-py/tensorflow/ball_image/14.jpg'), WindowsPath('C:/Users/rafat/My_Github/random-py/tensorflow/ball_image/15.jpg'), WindowsPath('C:/Users/rafat/My_Github/random-py/tensorflow/ball_image/16.jpg'), WindowsPath('C:/Users/rafat/My_Github/random-py/tensorflow/ball_image/17.jpg'), WindowsPath('C:/Users/rafat/My_Github/random-py/tensorflow/ball_image/18.jpg'), WindowsPath('C:/Users/rafat/My_Github/random-py/tensorflow/ball_image/19.jpg'), WindowsPath('C:/Users/rafat/My_Github/random-py/tensorflow/ball_image/2.jpg'), WindowsPath('C:/Users/rafat/My_Github/random-py/tensorflow/ball_image/20.jpg'), WindowsPath('C:/Users/rafat/My_Github/random-py/tensorflow/ball_image/21.jpg'), WindowsPath('C:/Users/rafat/My_Github/random-py/tensorflow/ball_image/3.jpg'), WindowsPath('C:/Users/rafat/My_Github/random-py/tensorflow/ball_image/4.jpg'), WindowsPath('C:/Users/rafat/My_Github/random-py/tensorflow/ball_image/5.jpg'), WindowsPath('C:/Users/rafat/My_Github/random-py/tensorflow/ball_image/6.jpg'), WindowsPath('C:/Users/rafat/My_Github/random-py/tensorflow/ball_image/7.jpg'), WindowsPath('C:/Users/rafat/My_Github/random-py/tensorflow/ball_image/8.jpg'), WindowsPath('C:/Users/rafat/My_Github/random-py/tensorflow/ball_image/9.jpg')]\n"
     ]
    }
   ],
   "source": [
    "import tensorflow as tf\n",
    "import matplotlib.pyplot as plt\n",
    "import datetime\n",
    "import IPython.display as display\n",
    "from PIL import Image\n",
    "import numpy as np\n",
    "import matplotlib.pyplot as plt\n",
    "import os\n",
    "import pathlib\n",
    "\n",
    "DATA_PATH = os.getcwd()+'/';\n",
    "print(DATA_PATH)\n",
    "data_dir = pathlib.Path(DATA_PATH)\n",
    "image_count =list(data_dir.glob('*/*.jpg'))\n",
    "\n",
    "print(image_count)\n"
   ]
  },
  {
   "cell_type": "code",
   "execution_count": null,
   "metadata": {},
   "outputs": [],
   "source": []
  }
 ],
 "metadata": {
  "kernelspec": {
   "display_name": "Python 3",
   "language": "python",
   "name": "python3"
  },
  "language_info": {
   "codemirror_mode": {
    "name": "ipython",
    "version": 3
   },
   "file_extension": ".py",
   "mimetype": "text/x-python",
   "name": "python",
   "nbconvert_exporter": "python",
   "pygments_lexer": "ipython3",
   "version": "3.7.7"
  }
 },
 "nbformat": 4,
 "nbformat_minor": 4
}
