{
 "cells": [
  {
   "cell_type": "code",
   "execution_count": 23,
   "metadata": {},
   "outputs": [
    {
     "name": "stdout",
     "output_type": "stream",
     "text": [
      "b'{\"response_code\":200,\"response_type\":\"success\",\"message\":\"Thank you to send a data into server\"}'\n"
     ]
    }
   ],
   "source": [
    "# This is client code\n",
    "import socket                \n",
    "import time\n",
    "\n",
    "millis = int(round(time.time() * 1000))\n",
    "my_username =\"Name=Rafat python, Time=\"+str(millis)\n",
    "client_socket = socket.socket() \n",
    "client_socket.connect(('192.168.123.102', 1111)) \n",
    "\n",
    "client_socket.setblocking(False)\n",
    "username = my_username.encode('utf-8')\n",
    "client_socket.send(username)\n",
    "\n",
    "client_socket.setblocking(True)\n",
    "print( client_socket.recv(4096) )\n",
    "\n",
    "client_socket.close()        "
   ]
  },
  {
   "cell_type": "code",
   "execution_count": null,
   "metadata": {},
   "outputs": [],
   "source": []
  },
  {
   "cell_type": "code",
   "execution_count": null,
   "metadata": {},
   "outputs": [],
   "source": []
  }
 ],
 "metadata": {
  "kernelspec": {
   "display_name": "Python 3",
   "language": "python",
   "name": "python3"
  },
  "language_info": {
   "codemirror_mode": {
    "name": "ipython",
    "version": 3
   },
   "file_extension": ".py",
   "mimetype": "text/x-python",
   "name": "python",
   "nbconvert_exporter": "python",
   "pygments_lexer": "ipython3",
   "version": "3.7.4"
  }
 },
 "nbformat": 4,
 "nbformat_minor": 2
}
